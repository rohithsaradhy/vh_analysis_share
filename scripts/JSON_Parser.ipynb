{
 "cells": [
  {
   "cell_type": "code",
   "execution_count": 4,
   "metadata": {},
   "outputs": [],
   "source": [
    "from tools.flashgg_json_parser import findDataFromCatalog"
   ]
  },
  {
   "cell_type": "code",
   "execution_count": 8,
   "metadata": {},
   "outputs": [
    {
     "name": "stdout",
     "output_type": "stream",
     "text": [
      "Files found... Processing\n",
      "Saving to the following file: ./../RunIIFall2017/2019_2_22_bkg_jobs.json\n",
      "Done Saving\n"
     ]
    }
   ],
   "source": [
    "listOfInterest = [\n",
    "    'TTJets'\n",
    "    ,'WGToLNuG'\n",
    "    ,'GJet'\n",
    "    ,'TTGJets'\n",
    "    ,'DiPhotonJets'\n",
    "    ,'DYJetsToLL'\n",
    "    ,'TTGG_0Jets'\n",
    "    ,'WW'\n",
    "    ,'ZZTo2L2Q'\n",
    "    ,'WZTo2L2Q'\n",
    "    ,'TGJets'\n",
    "    ,'QCD'  \n",
    "]\n",
    "root_folder=\"../../../flashgg/MetaData/data/RunIIFall17-3_1_0/\"\n",
    "# root_folder=\"../../flashgg/MetaData/data/RunIISummer16-2_4_1-25ns_Moriond17/\"\n",
    "findDataFromCatalog(root_folder,listOfInterest,outputName=\"./../RunIIFall2017/2019_2_22_bkg_jobs.json\")"
   ]
  },
  {
   "cell_type": "code",
   "execution_count": null,
   "metadata": {},
   "outputs": [],
   "source": []
  }
 ],
 "metadata": {
  "kernelspec": {
   "display_name": "Python 2",
   "language": "python",
   "name": "python2"
  },
  "language_info": {
   "codemirror_mode": {
    "name": "ipython",
    "version": 2
   },
   "file_extension": ".py",
   "mimetype": "text/x-python",
   "name": "python",
   "nbconvert_exporter": "python",
   "pygments_lexer": "ipython2",
   "version": "2.7.15"
  }
 },
 "nbformat": 4,
 "nbformat_minor": 2
}
