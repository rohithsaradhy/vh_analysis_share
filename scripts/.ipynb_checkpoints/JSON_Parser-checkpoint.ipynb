{
 "cells": [
  {
   "cell_type": "code",
   "execution_count": 2,
   "metadata": {},
   "outputs": [],
   "source": [
    "from tools.flashgg_json_parser import findDataFromCatalog,saveJSON,MergeJSON"
   ]
  },
  {
   "cell_type": "code",
   "execution_count": 3,
   "metadata": {},
   "outputs": [
    {
     "name": "stdout",
     "output_type": "stream",
     "text": [
      "Files found... Processing\n"
     ]
    }
   ],
   "source": [
    "listOfInterest = [\n",
    "    'TTJets'\n",
    "    ,'WGToLNuG'\n",
    "    ,'GJet'\n",
    "    ,'TTGJets'\n",
    "    ,'DiPhotonJets'\n",
    "    ,'DYJetsToLL'\n",
    "    ,'TTGG_0Jets'\n",
    "    ,'WW'\n",
    "    ,'ZZTo2L2Q'\n",
    "    ,'WZTo2L2Q'\n",
    "    ,'TGJets'\n",
    "    ,'QCD'  \n",
    "]\n",
    "root_folder=\"../../../flashgg/MetaData/data/RunIIFall17-3_2_0/\"\n",
    "# root_folder=\"../../flashgg/MetaData/data/RunIISummer16-2_4_1-25ns_Moriond17/\"\n",
    "data1 = findDataFromCatalog(root_folder,listOfInterest)"
   ]
  },
  {
   "cell_type": "code",
   "execution_count": 4,
   "metadata": {},
   "outputs": [
    {
     "name": "stdout",
     "output_type": "stream",
     "text": [
      "Files found... Processing\n"
     ]
    }
   ],
   "source": [
    "root_folder=\"../../../flashgg/MetaData/data/RunIIFall17-3_1_0/\"\n",
    "# root_folder=\"../../flashgg/MetaData/data/RunIISummer16-2_4_1-25ns_Moriond17/\"\n",
    "data2 = findDataFromCatalog(root_folder,listOfInterest)\n"
   ]
  },
  {
   "cell_type": "code",
   "execution_count": 5,
   "metadata": {},
   "outputs": [],
   "source": [
    "#We merge both of them together\n",
    "a = MergeJSON(data1,data2,\"RunIIFall17-3_1_0_mergedWithRunIIFall17-3_2_0\")"
   ]
  },
  {
   "cell_type": "code",
   "execution_count": 6,
   "metadata": {},
   "outputs": [
    {
     "data": {
      "text/plain": [
       "['/WGToLNuG',\n",
       " '/TTGG_0Jets',\n",
       " '/QCD',\n",
       " '/DYJetsToLL',\n",
       " '/DiPhotonJets',\n",
       " '/TTJets',\n",
       " '/WZTo2L2Q',\n",
       " '/TTGJets',\n",
       " '/ZZTo2L2Q',\n",
       " '/GJet',\n",
       " '/WW',\n",
       " '/TGJets']"
      ]
     },
     "execution_count": 6,
     "metadata": {},
     "output_type": "execute_result"
    }
   ],
   "source": [
    "a['processes'].keys()"
   ]
  },
  {
   "cell_type": "code",
   "execution_count": 7,
   "metadata": {},
   "outputs": [
    {
     "name": "stdout",
     "output_type": "stream",
     "text": [
      "Saving to the following file: ../RunIIFall2017/2019_2_22_bkg_jobs_merged.json\n",
      "Done Saving\n"
     ]
    }
   ],
   "source": [
    "saveJSON('../RunIIFall2017/2019_2_22_bkg_jobs_merged.json',a)"
   ]
  },
  {
   "cell_type": "code",
   "execution_count": null,
   "metadata": {},
   "outputs": [],
   "source": []
  }
 ],
 "metadata": {
  "kernelspec": {
   "display_name": "Python 2",
   "language": "python",
   "name": "python2"
  },
  "language_info": {
   "codemirror_mode": {
    "name": "ipython",
    "version": 2
   },
   "file_extension": ".py",
   "mimetype": "text/x-python",
   "name": "python",
   "nbconvert_exporter": "python",
   "pygments_lexer": "ipython2",
   "version": "2.7.15"
  }
 },
 "nbformat": 4,
 "nbformat_minor": 2
}
